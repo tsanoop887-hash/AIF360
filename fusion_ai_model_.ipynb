{
  "nbformat": 4,
  "nbformat_minor": 0,
  "metadata": {
    "colab": {
      "provenance": [],
      "authorship_tag": "ABX9TyPEo20aKJSfN1Qj7PouzPxU",
      "include_colab_link": true
    },
    "kernelspec": {
      "name": "python3",
      "display_name": "Python 3"
    },
    "language_info": {
      "name": "python"
    }
  },
  "cells": [
    {
      "cell_type": "markdown",
      "metadata": {
        "id": "view-in-github",
        "colab_type": "text"
      },
      "source": [
        "<a href=\"https://colab.research.google.com/github/tsanoop887-hash/AIF360/blob/main/fusion_ai_model_.ipynb\" target=\"_parent\"><img src=\"https://colab.research.google.com/assets/colab-badge.svg\" alt=\"Open In Colab\"/></a>"
      ]
    },
    {
      "cell_type": "code",
      "metadata": {
        "id": "8ac03a9d"
      },
      "source": [
        "import math\n",
        "import time\n",
        "import torch\n",
        "import torch.nn as nn\n",
        "import torch.optim as optim\n",
        "from torch.cuda.amp import autocast ,GradScaler\n",
        "import numpy as np"
      ],
      "execution_count": 1,
      "outputs": []
    },
    {
      "cell_type": "code",
      "source": [
        "device = torch.device('cuda' if torch.cuda.is_available() else 'cpu')"
      ],
      "metadata": {
        "id": "RRlZcWKr9NMk"
      },
      "execution_count": 2,
      "outputs": []
    },
    {
      "cell_type": "markdown",
      "source": [
        "termal diffusivity"
      ],
      "metadata": {
        "id": "C7Ou02k09hxU"
      }
    },
    {
      "cell_type": "code",
      "source": [
        "alpha= 0.01\n",
        "t_final=1.0\n",
        "domain =[0.0,1.0]"
      ],
      "metadata": {
        "id": "9KAUv3GA9Yrt"
      },
      "execution_count": 3,
      "outputs": []
    },
    {
      "cell_type": "markdown",
      "source": [
        "utilities"
      ],
      "metadata": {
        "id": "HokN-uhQ9nlI"
      }
    },
    {
      "cell_type": "code",
      "source": [
        "def meshgrid2d(n):\n",
        "  xs=np.linspace(domain[0],domain[1],n)\n",
        "  ys=np.linspace(domain[0],domain[1],n)\n",
        "  X , Y=np.meshgrid(xs,ys, indexing='xy')\n",
        "  return X, Y"
      ],
      "metadata": {
        "id": "RkYKix_l9po5"
      },
      "execution_count": 4,
      "outputs": []
    },
    {
      "cell_type": "markdown",
      "source": [
        "Fourier Feature mapping\n"
      ],
      "metadata": {
        "id": "ykBxigEN-TyZ"
      }
    },
    {
      "cell_type": "code",
      "source": [
        "class FFMapping(nn.Module):\n",
        "  def __init__(self, in_dim=3 ,mapping_size=64 ,scale=10.0):\n",
        "    super().__init__()\n",
        "    B=torch.randn(in_dim,mapping_size)*scale\n",
        "    self.register_buffer('B',B)\n",
        "  def forward(self,x):\n",
        "\n",
        "    x_proj=2*math.pi*x @ self.B\n",
        "    return torch.cat([torch.sin(x_proj),torch.cos(x_proj)],dim=-1)\n"
      ],
      "metadata": {
        "id": "X75MzXS5-Qy-"
      },
      "execution_count": 5,
      "outputs": []
    },
    {
      "cell_type": "code",
      "source": [
        "class PINN(nn.Module):\n",
        "  def __init__(self,in_dim=3,hidden=256,layers=6,ff_size=64):\n",
        "    super().__init__()\n",
        "    self.ff=FFMapping(in_dim=in_dim,mapping_size=ff_size,scale=5.0)\n",
        "    input_dim=ff_size*2\n",
        "    seq=[]\n",
        "    seq.append(nn.Linear(input_dim,hidden))\n",
        "    seq.append(nn.SiLU())\n",
        "    for _ in range(layers-1):\n",
        "      seq.append(nn.Linear(hidden,hidden))\n",
        "      seq.append(nn.SILU())\n",
        "      seq.append(nn.Linear(hidden,1))\n",
        "      self.net=nn.Sequential(*seq)\n",
        "      self.__init__weights()\n",
        "  def __init__weights(self):\n",
        "    for m in self.net:\n",
        "      if isinstance(m,nn.Linear):\n",
        "        nn.init.xavier_uniform_(m.weight)\n",
        "        nn.init.zeros_(m.bias)\n",
        "  def forward(self,xyt):\n",
        "\n",
        "    z=self.ff(xyt)\n",
        "    return self.net(z)"
      ],
      "metadata": {
        "id": "3I7sJuGX_7vR"
      },
      "execution_count": 6,
      "outputs": []
    },
    {
      "cell_type": "code",
      "source": [
        "class SpectralConv2d(nn.Module):\n",
        "  def __init__(self,in_channels ,out_channels,modes1, modes2):\n",
        "    super().__init__()\n",
        "    self.in_channels=in_channels\n",
        "    self.out_channels=out_channels\n",
        "    self.modes1=modes1\n",
        "    self.modes2=modes2\n",
        "    self.scale=1/(in_channels*out_channels)\n",
        "    self.weights=nn.Parameter(self.scale*torch.randn(in_channels,out_channels,modes1,modes2))\n",
        "def compl_mul2d(self,input,weights):\n",
        "\n",
        "  return torch.einsum('bixy,ioxy->boxy',input, weights)\n",
        "def forward(self,x):\n",
        "\n",
        "  batchsize = x.shape[0]\n",
        "\n",
        "  x_ft = torch.fft.rfft2(x,norm='ortho')\n",
        "  out_ft = torch.zeros(batchsize,self.out_channels,x.size(-2),x.size(-1)//2+1,dtype=torch.cfloat,device=x.device)\n",
        "  mx= min(self.modes1,x_ft.size(-2))\n",
        "  my= min(self.modes2,x_ft.size(-1))\n",
        "  weight=torch.view_as_complex(self.weights)\n",
        "  out_ft[:,:,:mx,:my]=torch.einsum('bixy,ioxy->boxy',x_ft[:,:,:mx,:my], weight)\n",
        "  x= torch.fft.irfft2(out_ft,s=(x.size(-2),x.size(-1)),norm='ortho')\n",
        "  return x"
      ],
      "metadata": {
        "id": "N4PdSbDdDjNh"
      },
      "execution_count": 7,
      "outputs": []
    },
    {
      "cell_type": "code",
      "source": [
        "class FNO2d(nn.Module):\n",
        "    def __init__(self, modes1, modes2, width):\n",
        "        super().__init__()\n",
        "        self.modes1 = modes1\n",
        "        self.modes2 = modes2\n",
        "        self.width = width\n",
        "        self.fc0 = nn.Linear(3, self.width) # input: (x,y, forcing) -> lift to width\n",
        "        self.conv0 = SpectralConv2d(self.width, self.width, modes1, modes2)\n",
        "        self.conv1 = SpectralConv2d(self.width, self.width, modes1, modes2)\n",
        "        self.w0 = nn.Conv2d(self.width, self.width, 1)\n",
        "        self.w1 = nn.Conv2d(self.width, self.width, 1)\n",
        "        self.fc1 = nn.Linear(self.width, 128)\n",
        "        self.fc2 = nn.Linear(128, 1)\n",
        "\n",
        "    def forward(self, x):\n",
        "        # x shape: (batch, nx, ny, 3) -> reshape to (batch, 3, nx, ny)\n",
        "        batch, nx, ny, c = x.shape\n",
        "        x = x.permute(0,3,1,2) # (batch, c, nx, ny)\n",
        "        x = x.reshape(batch, c, nx, ny)\n",
        "\n",
        "        # lift\n",
        "        x = x.permute(0,2,3,1).reshape(-1, c)\n",
        "        x = self.fc0(x).reshape(batch, nx, ny, self.width).permute(0,3,1,2)\n",
        "\n",
        "        x1 = self.conv0(x)\n",
        "        x2 = self.w0(x)\n",
        "        x = x1 + x2\n",
        "        x = nn.functional.gelu(x)\n",
        "\n",
        "        x1 = self.conv1(x)\n",
        "        x2 = self.w1(x)\n",
        "        x = x1 + x2\n",
        "\n",
        "        x = x.permute(0,2,3,1).reshape(-1, self.width)\n",
        "        x = self.fc1(x)\n",
        "        x = nn.functional.gelu(x)\n",
        "        x = self.fc2(x)\n",
        "        x = x.reshape(batch, nx, ny, 1)\n",
        "        return x"
      ],
      "metadata": {
        "id": "JNOn7uF_KGDe"
      },
      "execution_count": 8,
      "outputs": []
    },
    {
      "cell_type": "code",
      "source": [
        "def pde_residual(model, xyt):\n",
        "  xyt = xyt.clone().detach().requires_grad_(True)\n",
        "  T = model(xyt)\n",
        "  grads = torch.autograd.grad(T, xyt, grad_outputs=torch.ones_like(T), create_graph=True)[0]\n",
        "  T_x = grads[:,0:1]\n",
        "  T_y = grads[:,1:2]\n",
        "  T_t = grads[:,2:3]\n",
        "  T_xx = torch.autograd.grad(T_x, xyt, grad_outputs=torch.ones_like(T_x), create_graph=True)[0][:,0:1]\n",
        "  T_yy = torch.autograd.grad(T_y, xyt, grad_outputs=torch.ones_like(T_y), create_graph=True)[0][:,1:2]\n",
        "  res = T_t - alpha*(T_xx + T_yy)\n",
        "  return res"
      ],
      "metadata": {
        "id": "fGjm-tEYKWDN"
      },
      "execution_count": 9,
      "outputs": []
    },
    {
      "cell_type": "code",
      "source": [
        "def generate_synthetic_field(nx=64, ny=64, samples=100):\n",
        "  # generate random initial conditions and simulate via simple spectral method (placeholder)\n",
        "  X, Y = meshgrid2d(nx)\n",
        "  data_in = []\n",
        "  data_out = []\n",
        "  for s in range(samples):\n",
        "    # random gaussian bumps as forcing\n",
        "    centers = np.random.rand(4,2)\n",
        "    field0 = np.zeros_like(X)\n",
        "    for c in centers:\n",
        "      field0 += np.exp(-50*((X-c[0])**2 + (Y-c[1])**2))\n",
        "    # make target by smoothing (proxy for PDE evolution)\n",
        "    target = field0.copy()\n",
        "    for _ in range(10):\n",
        "      target = (np.roll(target,1,axis=0)+np.roll(target,-1,axis=0)+np.roll(target,1,axis=1)+np.roll(target,-1,axis=1))/4.0\n",
        "    data_in.append(field0[...,None])\n",
        "    data_out.append(target[...,None])\n",
        "  data_in = np.stack(data_in, axis=0).astype(np.float32)\n",
        "  data_out = np.stack(data_out, axis=0).astype(np.float32)\n",
        "  return data_in, data_out"
      ],
      "metadata": {
        "id": "8M4HTrBVKiSX"
      },
      "execution_count": 10,
      "outputs": []
    },
    {
      "cell_type": "code",
      "source": [
        "def train():\n",
        "  # instantiate models\n",
        "  pinn = PINN().to(device)\n",
        "  fno = FNO2d(modes1=12, modes2=12, width=32).to(device)\n",
        "\n",
        "\n",
        "  opt_pinn = optim.Adam(pinn.parameters(), lr=1e-3)\n",
        "  opt_fno = optim.Adam(fno.parameters(), lr=1e-3)\n",
        "\n",
        "\n",
        "  scaler = GradScaler()\n",
        "\n",
        "\n",
        "  # synthetic dataset\n",
        "  nx = ny = 64\n",
        "  X, Y = meshgrid2d(nx)\n",
        "  data_in, data_out = generate_synthetic_field(nx=nx, ny=ny, samples=200)\n",
        "\n",
        "\n",
        "  # convert to torch\n",
        "  data_in_t = torch.from_numpy(data_in).to(device) # (S, nx, ny, 1)\n",
        "  data_out_t = torch.from_numpy(data_out).to(device)\n",
        "\n",
        "\n",
        "  epochs = 2000\n",
        "  for ep in range(epochs):\n",
        "    # PINN training\n",
        "    opt_pinn.zero_grad()\n",
        "    # Sample points for PINN\n",
        "    x = torch.rand(1000, 1, device=device) * (domain[1] - domain[0]) + domain[0]\n",
        "    y = torch.rand(1000, 1, device=device) * (domain[1] - domain[0]) + domain[0]\n",
        "    t = torch.rand(1000, 1, device=device) * t_final\n",
        "    xyt = torch.cat([x, y, t], dim=1)\n",
        "\n",
        "    with autocast():\n",
        "      res = pde_residual(pinn, xyt)\n",
        "      loss_pinn = torch.mean(res**2)\n",
        "\n",
        "    scaler.scale(loss_pinn).backward()\n",
        "    scaler.step(opt_pinn)\n",
        "\n",
        "    # FNO training\n",
        "    opt_fno.zero_grad()\n",
        "    # Randomly select a sample for FNO\n",
        "    idx = np.random.randint(data_in_t.shape[0])\n",
        "    fno_in = torch.cat([X[None,:,:,None], Y[None,:,:,None], data_in_t[idx:idx+1,...]], dim=-1)\n",
        "\n",
        "    with autocast():\n",
        "      fno_out = fno(fno_in)\n",
        "      loss_fno = torch.mean((fno_out - data_out_t[idx:idx+1,...])**2)\n",
        "\n",
        "    scaler.scale(loss_fno).backward()\n",
        "    scaler.step(opt_fno)\n",
        "    scaler.update()\n",
        "\n",
        "    if ep % 100 == 0:\n",
        "      print(f'Epoch {ep}, PINN Loss: {loss_pinn.item():.4f}, FNO Loss: {loss_fno.item():.4f}')"
      ],
      "metadata": {
        "id": "tjlnwPGtKqSe"
      },
      "execution_count": 13,
      "outputs": []
    }
  ]
}